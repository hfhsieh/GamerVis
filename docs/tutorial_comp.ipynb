{
 "cells": [
  {
   "cell_type": "code",
   "execution_count": 1,
   "id": "3d51b739-a757-4169-a9d4-262512d09c46",
   "metadata": {},
   "outputs": [],
   "source": [
    "from pprint import pprint\n",
    "\n",
    "import numpy as np\n",
    "from matplotlib import pyplot as plt\n",
    "\n",
    "from GamerVis import *"
   ]
  },
  {
   "cell_type": "markdown",
   "id": "53cbb41b",
   "metadata": {},
   "source": []
  },
  {
   "cell_type": "markdown",
   "id": "0e85d963-626b-4b99-8bb0-4cd80cc02160",
   "metadata": {},
   "source": [
    "## Methods for computing various quantities"
   ]
  },
  {
   "cell_type": "markdown",
   "id": "4364cdc0-a26c-42af-a8c3-5d09f0d63e3f",
   "metadata": {},
   "source": [
    "This document demonstrates how to use gamervis to compute various physical quantities.\n",
    "\n",
    "Current supports:\n",
    "- `calc_fieldmax()`\n",
    "  - Find the maximum value of the specified fields.\n",
    "- `calc_pns()`\n",
    "  - Compute the PNS radius and mass.\n",
    "- `calc_profile()`\n",
    "  - Compute the spherically averaged profiles of the specified fields.\n",
    "- `calc_accretion()`\n",
    "  - Compute the mass accretion rate at the specified radius.\n",
    "- `calc_timescale_shock()`\n",
    "  - Compute the onset condition of shock expansion."
   ]
  },
  {
   "cell_type": "code",
   "execution_count": 2,
   "id": "cbb69ada-e1ec-47c3-87a5-355877d69852",
   "metadata": {},
   "outputs": [],
   "source": [
    "# setting\n",
    "rundir  = \"/home/hfhsieh/nas/ccsn_leakage_prod/B00_Rot00/MHM_AngMax00_AngMin12_B0_Rot0_re4\"\n",
    "tbounce = 4.5865000e-01\n",
    "fn_list = [124, 125]\n",
    "\n",
    "gamer_obj = gamervis(rundir = rundir, tbounce = tbounce)"
   ]
  },
  {
   "cell_type": "code",
   "execution_count": null,
   "id": "a07eb44c-c6d1-48af-beaa-b0ca1c8499db",
   "metadata": {},
   "outputs": [],
   "source": []
  },
  {
   "cell_type": "markdown",
   "id": "74f82c34-0c7c-427d-9c0a-9ccc3b170d96",
   "metadata": {},
   "source": [
    "## calc_fieldmax()"
   ]
  },
  {
   "cell_type": "code",
   "execution_count": 3,
   "id": "f1a3b5f8-a3fb-4289-99da-ae62a4574ee5",
   "metadata": {},
   "outputs": [
    {
     "data": {
      "text/plain": [
       "\u001b[31mSignature:\u001b[39m\n",
       "gamer_obj.calc_fieldmax(\n",
       "    fn_list,\n",
       "    fields,\n",
       "    center=\u001b[33m'pns_ascii'\u001b[39m,\n",
       "    selection_cond=\u001b[38;5;28;01mNone\u001b[39;00m,\n",
       "    fnout=\u001b[33m'FieldMax.txt'\u001b[39m,\n",
       "    path_fnout=\u001b[33m'.'\u001b[39m,\n",
       ")\n",
       "\u001b[31mDocstring:\u001b[39m\n",
       "Find the maximum value of the specified fields within the domain,\n",
       "restricted by the given selection criteria.\n",
       "\n",
       "Parameters\n",
       "----------\n",
       "fn_list: array-like of integer/string\n",
       "    Path to HDF5 snapshots or their indices to be processed.\n",
       "    --> Can be \"Data_000010\", \"10\", or 10.\n",
       "        Use \"all\" to automatically retrieve all available HDF5 files.\n",
       "fields: array-like of string\n",
       "    Name of target fields.\n",
       "center: string or array-like of float, optional\n",
       "    Coordinate of reference center, in cm.\n",
       "    --> \"c\"        : center of the simulation domain.\n",
       "        \"pns_ascii\": PNS center recorded in Record__CentralQuant\n",
       "        \"pns_hdf5\" : coordinate of highest-density cell in the HDF5 snapshot.\n",
       "selection_cond: string or array-like of string, optional\n",
       "    A condition of list of conditions that define the region\n",
       "    over which the maximum values are computed.\n",
       "fnout: string, optional\n",
       "    Name the output ASCII file.\n",
       "path_fnout: string, optional\n",
       "    Path to the output file.\n",
       "\u001b[31mFile:\u001b[39m      ~/opt/python-3.11.9_gcc-11.2.0/lib/python3.11/site-packages/GamerVis/gamervis.py\n",
       "\u001b[31mType:\u001b[39m      method"
      ]
     },
     "metadata": {},
     "output_type": "display_data"
    }
   ],
   "source": [
    "gamer_obj.calc_fieldmax?"
   ]
  },
  {
   "cell_type": "code",
   "execution_count": 4,
   "id": "6deb7407-3c8b-4d51-97d2-9a352ce7595e",
   "metadata": {},
   "outputs": [
    {
     "name": "stderr",
     "output_type": "stream",
     "text": [
      "yt : [INFO     ] 2025-04-22 06:49:24,813 Parameters: current_time              = 686.0\n",
      "yt : [INFO     ] 2025-04-22 06:49:24,814 Parameters: domain_dimensions         = [160 160 160]\n",
      "yt : [INFO     ] 2025-04-22 06:49:24,815 Parameters: domain_left_edge          = [0. 0. 0.]\n",
      "yt : [INFO     ] 2025-04-22 06:49:24,815 Parameters: domain_right_edge         = [20000. 20000. 20000.]\n",
      "yt : [INFO     ] 2025-04-22 06:49:24,816 Parameters: cosmological_simulation   = 0\n",
      "yt : [INFO     ] 2025-04-22 06:49:47,827 max value is 5.64196e+14 at 9999.8779296875000000 10000.1220703125000000 10000.1220703125000000\n",
      "yt : [INFO     ] 2025-04-22 06:50:06,761 max value is 7.67918e+11 at 10003.2958984375000000 9999.3896484375000000 9991.3330078125000000\n",
      "yt : [INFO     ] 2025-04-22 06:50:07,986 Parameters: current_time              = 688.0\n",
      "yt : [INFO     ] 2025-04-22 06:50:07,987 Parameters: domain_dimensions         = [160 160 160]\n",
      "yt : [INFO     ] 2025-04-22 06:50:07,987 Parameters: domain_left_edge          = [0. 0. 0.]\n",
      "yt : [INFO     ] 2025-04-22 06:50:07,987 Parameters: domain_right_edge         = [20000. 20000. 20000.]\n",
      "yt : [INFO     ] 2025-04-22 06:50:07,988 Parameters: cosmological_simulation   = 0\n",
      "yt : [INFO     ] 2025-04-22 06:50:29,603 max value is 5.65107e+14 at 9999.8779296875000000 10000.1220703125000000 10000.1220703125000000\n",
      "yt : [INFO     ] 2025-04-22 06:50:49,594 max value is 7.78782e+11 at 10005.9814453125000000 9993.5302734375000000 10002.0751953125000000\n"
     ]
    },
    {
     "name": "stdout",
     "output_type": "stream",
     "text": [
      "Dump data to ./FieldMax.txt\n"
     ]
    }
   ],
   "source": [
    "fields         = \"density\", \"temperature\"\n",
    "selection_cond = \"obj[('gas', 'density')] > 1e14\"\n",
    "\n",
    "gamer_obj.calc_fieldmax(fn_list, fields = fields, selection_cond = selection_cond)"
   ]
  },
  {
   "cell_type": "code",
   "execution_count": 5,
   "id": "be406535-903e-4ee8-b6b4-c65e49b55341",
   "metadata": {},
   "outputs": [
    {
     "name": "stdout",
     "output_type": "stream",
     "text": [
      "# Bounce Time     [s] : 4.586500e-01\n",
      "# Reference Center    : pns_ascii\n",
      "# Selection Condtions : [\"obj[('gas', 'density')] > 1e14\"]\n",
      "#\n",
      "# All quantities are in the CGS unit.\n",
      "# ==================================================\n",
      "#                  1                   2                   3                   4                   5                   6                   7                   8                   9\n",
      "#           PhysTime              Dens_X              Dens_Y              Dens_Z                Dens       temperature_X       temperature_Y       temperature_Z         temperature\n",
      "       6.8600000e-01      -1.2207031e+04       1.2207031e+04       1.2207031e+04       5.6419567e+14       3.2958984e+05      -6.1035156e+04      -8.6669922e+05       7.6791828e+11\n",
      "       6.8800000e-01      -1.2207031e+04       1.2207031e+04       1.2207031e+04       5.6510705e+14       5.9814453e+05      -6.4697266e+05       2.0751953e+05       7.7878224e+11\n"
     ]
    }
   ],
   "source": [
    "cat FieldMax.txt"
   ]
  },
  {
   "cell_type": "code",
   "execution_count": null,
   "id": "43be90b0-e43d-410c-a645-3f6f32b5c7a8",
   "metadata": {},
   "outputs": [],
   "source": []
  },
  {
   "cell_type": "markdown",
   "id": "b21c9bba-af56-4a36-9379-0e1d1e0951f3",
   "metadata": {},
   "source": [
    "## calc_pns()"
   ]
  },
  {
   "cell_type": "code",
   "execution_count": 6,
   "id": "81d583e6-77b3-4206-9c5f-f7ae1cc3f09f",
   "metadata": {},
   "outputs": [
    {
     "data": {
      "text/plain": [
       "\u001b[31mSignature:\u001b[39m\n",
       "gamer_obj.calc_pns(\n",
       "    fn_list,\n",
       "    dens_thresh=\u001b[32m100000000000.0\u001b[39m,\n",
       "    dens_frac=\u001b[32m0.1\u001b[39m,\n",
       "    fnout=\u001b[33m'PNS.txt'\u001b[39m,\n",
       "    path_fnout=\u001b[33m'.'\u001b[39m,\n",
       ")\n",
       "\u001b[31mDocstring:\u001b[39m\n",
       "Compute the enclosed mass and radius of the proto-neutron star (PNS), where\n",
       "\n",
       "    Mass_PNS   = Total mass with density > dens_thresh\n",
       "    Radius_PNS = Averaged radius for cells with density between\n",
       "                 dens_thresh * (1 ± dens_frac)\n",
       "\n",
       "Parameters\n",
       "----------\n",
       "fn_list: array-like of integer/string\n",
       "    Path to HDF5 snapshots or their indices to be processed.\n",
       "    --> Can be \"Data_000010\", \"10\", or 10.\n",
       "        Use \"all\" to automatically retrieve all available HDF5 files.\n",
       "dens_thresh: float, optional\n",
       "    Density threshold for computing the PNS mass and radius.\n",
       "dens_frac: float, optional\n",
       "    Fractional tolerance around the threshold density for computing the PNS radius.\n",
       "fnout: string, optional\n",
       "    Name the output ASCII file.\n",
       "path_fnout: string, optional\n",
       "    Path to the output file.\n",
       "\u001b[31mFile:\u001b[39m      ~/opt/python-3.11.9_gcc-11.2.0/lib/python3.11/site-packages/GamerVis/gamervis.py\n",
       "\u001b[31mType:\u001b[39m      method"
      ]
     },
     "metadata": {},
     "output_type": "display_data"
    }
   ],
   "source": [
    "gamer_obj.calc_pns?"
   ]
  },
  {
   "cell_type": "code",
   "execution_count": 7,
   "id": "55e5b034-09a7-4b6d-98f0-ff64cd3683c9",
   "metadata": {},
   "outputs": [
    {
     "name": "stderr",
     "output_type": "stream",
     "text": [
      "yt : [INFO     ] 2025-04-22 06:50:51,232 Parameters: current_time              = 686.0\n",
      "yt : [INFO     ] 2025-04-22 06:50:51,233 Parameters: domain_dimensions         = [160 160 160]\n",
      "yt : [INFO     ] 2025-04-22 06:50:51,233 Parameters: domain_left_edge          = [0. 0. 0.]\n",
      "yt : [INFO     ] 2025-04-22 06:50:51,233 Parameters: domain_right_edge         = [20000. 20000. 20000.]\n",
      "yt : [INFO     ] 2025-04-22 06:50:51,234 Parameters: cosmological_simulation   = 0\n",
      "yt : [INFO     ] 2025-04-22 06:51:32,857 Parameters: current_time              = 688.0\n",
      "yt : [INFO     ] 2025-04-22 06:51:32,858 Parameters: domain_dimensions         = [160 160 160]\n",
      "yt : [INFO     ] 2025-04-22 06:51:32,859 Parameters: domain_left_edge          = [0. 0. 0.]\n",
      "yt : [INFO     ] 2025-04-22 06:51:32,859 Parameters: domain_right_edge         = [20000. 20000. 20000.]\n",
      "yt : [INFO     ] 2025-04-22 06:51:32,859 Parameters: cosmological_simulation   = 0\n"
     ]
    },
    {
     "name": "stdout",
     "output_type": "stream",
     "text": [
      "Dump data to ./PNS.txt\n"
     ]
    }
   ],
   "source": [
    "dens_thresh = 1e10\n",
    "dens_frac   = 0.1\n",
    "\n",
    "gamer_obj.calc_pns(fn_list, dens_thresh = dens_thresh, dens_frac = dens_frac)"
   ]
  },
  {
   "cell_type": "code",
   "execution_count": 8,
   "id": "75652641-409c-4e15-ad64-047bdc10623d",
   "metadata": {},
   "outputs": [
    {
     "name": "stdout",
     "output_type": "stream",
     "text": [
      "# Bounce Time           [s] : 4.586500e-01\n",
      "# Density Threshold [g/cm3] : 1.000000e+10\n",
      "# Density Fraction          : 1.000000e-01\n",
      "#\n",
      "# All quantities are in the CGS unit.\n",
      "# NaN indicates that no cells meet the selection criteria.\n",
      "# ==================================================\n",
      "#            1             2             3\n",
      "#     PhysTime      PNS_Mass    PNS_Radius\n",
      "#          [s]           [g]          [cm]\n",
      "  6.860000e-01  4.193577e+33  4.538010e+06\n",
      "  6.880000e-01  4.199633e+33  4.563595e+06\n"
     ]
    }
   ],
   "source": [
    "cat PNS.txt"
   ]
  },
  {
   "cell_type": "code",
   "execution_count": null,
   "id": "5e1d9862-b767-4e08-9ad2-de4fcf5e8cad",
   "metadata": {},
   "outputs": [],
   "source": []
  },
  {
   "cell_type": "markdown",
   "id": "e7358ca2-3d41-46bf-a658-cf12f964d00c",
   "metadata": {},
   "source": [
    "## calc_profile()"
   ]
  },
  {
   "cell_type": "code",
   "execution_count": 9,
   "id": "57cfcc56-3a2c-4666-8849-fdeee3b061e2",
   "metadata": {},
   "outputs": [
    {
     "data": {
      "text/plain": [
       "\u001b[31mSignature:\u001b[39m\n",
       "gamer_obj.calc_profile(\n",
       "    fn_list,\n",
       "    fields=\u001b[38;5;28;01mNone\u001b[39;00m,\n",
       "    rmax=\u001b[32m300000000.0\u001b[39m,\n",
       "    center=\u001b[33m'pns_ascii'\u001b[39m,\n",
       "    logscale=\u001b[38;5;28;01mTrue\u001b[39;00m,\n",
       "    nbin=\u001b[32m128\u001b[39m,\n",
       "    fnout_prefix=\u001b[33m'Profile_SphAve'\u001b[39m,\n",
       "    path_fnout=\u001b[33m'.'\u001b[39m,\n",
       ")\n",
       "\u001b[31mDocstring:\u001b[39m\n",
       "Compute the spherically averaged profiles of specified fields via yt,\n",
       "and dump the profiles to ASCII files.\n",
       "\n",
       "Parameters\n",
       "----------\n",
       "fn_list: array-like of integer/string\n",
       "    Path to HDF5 snapshots or their indices to be processed.\n",
       "    --> Can be \"Data_000010\", \"10\", or 10.\n",
       "        Use \"all\" to automatically retrieve all available HDF5 files.\n",
       "fields: array-like of string, optional\n",
       "    Name of target fields.\n",
       "rmax: float, optional\n",
       "    Maximum radius of the profile, in cm.\n",
       "center: string or array-like of float, optional\n",
       "    Coordinate of reference center, in cm.\n",
       "    --> \"c\"        : center of the simulation domain.\n",
       "        \"pns_ascii\": PNS center recorded in Record__CentralQuant\n",
       "        \"pns_hdf5\" : coordinate of highest-density cell in the HDF5 snapshot.\n",
       "logscale: boolean, optional\n",
       "    Indicates whether to apply a logarithmic scale to the bin edges.\n",
       "nbin: integer, optional\n",
       "    Number of bins.\n",
       "fnout_prefix: string, optional\n",
       "    Prefix for the output filename.\n",
       "path_fnout: string, optional\n",
       "    Path to the output file.\n",
       "\u001b[31mFile:\u001b[39m      ~/opt/python-3.11.9_gcc-11.2.0/lib/python3.11/site-packages/GamerVis/gamervis.py\n",
       "\u001b[31mType:\u001b[39m      method"
      ]
     },
     "metadata": {},
     "output_type": "display_data"
    }
   ],
   "source": [
    "gamer_obj.calc_profile?"
   ]
  },
  {
   "cell_type": "code",
   "execution_count": 10,
   "id": "61f975b5-df29-4e1d-9e19-8aaa9a8f9e37",
   "metadata": {},
   "outputs": [
    {
     "name": "stderr",
     "output_type": "stream",
     "text": [
      "yt : [INFO     ] 2025-04-22 06:52:13,384 Parameters: current_time              = 686.0\n",
      "yt : [INFO     ] 2025-04-22 06:52:13,384 Parameters: domain_dimensions         = [160 160 160]\n",
      "yt : [INFO     ] 2025-04-22 06:52:13,385 Parameters: domain_left_edge          = [0. 0. 0.]\n",
      "yt : [INFO     ] 2025-04-22 06:52:13,385 Parameters: domain_right_edge         = [20000. 20000. 20000.]\n",
      "yt : [INFO     ] 2025-04-22 06:52:13,386 Parameters: cosmological_simulation   = 0\n"
     ]
    },
    {
     "name": "stdout",
     "output_type": "stream",
     "text": [
      "Dump data to ./Profile_SphAve_000124.txt\n"
     ]
    }
   ],
   "source": [
    "gamer_obj.calc_profile(fn_list = 124)"
   ]
  },
  {
   "cell_type": "code",
   "execution_count": 11,
   "id": "004ae5f5-4adf-49ff-9dac-58499193ddef",
   "metadata": {},
   "outputs": [
    {
     "name": "stdout",
     "output_type": "stream",
     "text": [
      "# File                : /home/hfhsieh/nas/ccsn_leakage_prod/B00_Rot00/MHM_AngMax00_AngMin12_B0_Rot0_re4/Data_000124\n",
      "# Physical Time   [s] : 6.860000e-01\n",
      "# Bounce Time     [s] : 4.586500e-01\n",
      "# Maximum Radius [km] : 3000.000\n",
      "# Reference Center    : pns_ascii\n",
      "# Number of Bin       : 128\n",
      "# Logscale            : True\n",
      "#\n",
      "# All quantities are in the CGS unit.\n",
      "# ==================================================\n",
      "#            1             2             3             4             5             6             7             8             9\n",
      "#       Radius          Dens          Vrad            Ye        YeDens          Temp          Pres          Entr          Pote\n",
      "  2.196302e+04  3.803785e+14 -1.581010e+06  2.350512e-01  4.987129e-05  4.561848e+11  2.961898e+34  3.106865e+00 -3.214885e+20\n",
      "  3.991985e+04  3.798394e+14 -3.108960e+06  2.349260e-01  4.978905e-05  4.569606e+11  2.956441e+34  3.111258e+00 -3.213562e+20\n",
      "  4.301560e+04  7.597028e+08 -9.196063e+07  4.979959e-01  1.902106e-10  1.051807e+10  5.939429e+26  3.671558e+00 -4.570964e+19\n",
      "  5.381922e+04  3.799660e+14 -2.892027e+06  2.350407e-01  4.981678e-05  4.565441e+11  2.956809e+34  3.109614e+00 -3.213652e+20\n",
      "  6.249015e+04  3.791265e+14 -3.903932e+06  2.348828e-01  4.968974e-05  4.578447e+11  2.948456e+34  3.117098e+00 -3.211631e+20\n",
      "  7.818491e+04  3.784199e+14 -4.509077e+06  2.348113e-01  4.958868e-05  4.586851e+11  2.940523e+34  3.122626e+00 -3.209681e+20\n",
      "  8.424809e+04  3.780103e+14 -5.366276e+06  2.348277e-01  4.953417e-05  4.596396e+11  2.937374e+34  3.128122e+00 -3.208848e+20\n",
      "  9.078146e+04  3.784251e+14 -4.711117e+06  2.348592e-01  4.959372e-05  4.587298e+11  2.940411e+34  3.123190e+00 -3.209720e+20\n"
     ]
    }
   ],
   "source": [
    "!head -n 20 Profile_SphAve_000124.txt"
   ]
  },
  {
   "cell_type": "code",
   "execution_count": null,
   "id": "d0c23c8c-3d1c-433c-9e8b-37932a4d85c9",
   "metadata": {},
   "outputs": [],
   "source": []
  },
  {
   "cell_type": "markdown",
   "id": "1bb1a16c-48c5-48b7-8201-18cfc7976740",
   "metadata": {},
   "source": [
    "## calc_accretion()"
   ]
  },
  {
   "cell_type": "code",
   "execution_count": 12,
   "id": "714449ea-c2cc-4606-bd99-cd309c364e78",
   "metadata": {},
   "outputs": [
    {
     "data": {
      "text/plain": [
       "\u001b[31mSignature:\u001b[39m\n",
       "gamer_obj.calc_accretion(\n",
       "    fn_list,\n",
       "    radius,\n",
       "    method,\n",
       "    center=\u001b[33m'pns_ascii'\u001b[39m,\n",
       "    width=\u001b[32m1000000.0\u001b[39m,\n",
       "    logscale=\u001b[38;5;28;01mFalse\u001b[39;00m,\n",
       "    nbin=\u001b[32m64\u001b[39m,\n",
       "    fnout=\u001b[33m'Accretion.txt'\u001b[39m,\n",
       "    path_fnout=\u001b[33m'.'\u001b[39m,\n",
       ")\n",
       "\u001b[31mDocstring:\u001b[39m\n",
       "Compute the accretion rate at the specified radius, and dump the data to ASCII files.\n",
       "\n",
       "Parameters\n",
       "----------\n",
       "fn_list: array-like of integer/string\n",
       "    Path to HDF5 snapshots or their indices to be processed.\n",
       "    --> Can be \"Data_000010\", \"10\", or 10.\n",
       "        Use \"all\" to automatically retrieve all available HDF5 files.\n",
       "radius: float\n",
       "    Target spherical radius, in cm.\n",
       "method: string\n",
       "    Method for computing the accretion rate.\n",
       "    --> \"postprocess\": time derivative of the mass enclosed within the specified radius.\n",
       "        \"shell\"      : mass flux within the shell of [radius - width, radius + width].\n",
       "        \"profile\"    : derived from density and radial velocity interpolated from\n",
       "                       the spherically averaged profile at the specified radius.\n",
       "center: string or array-like of float, optional\n",
       "    Coordinate of reference center, in cm.\n",
       "    --> \"c\"        : center of the simulation domain.\n",
       "        \"pns_ascii\": PNS center recorded in Record__CentralQuant\n",
       "        \"pns_hdf5\" : coordinate of highest-density cell in the HDF5 snapshot.\n",
       "width: float, optional\n",
       "    Half-width of the shell for the \"shell\" method, in cm.\n",
       "logscale: boolean, optional\n",
       "    Indicates whether to apply a log scale to the bin edges, for the \"profile\" method.\n",
       "nbin: integer, optional\n",
       "    Number of bins, for the \"profile\" method.\n",
       "fnout: string, optional\n",
       "    Name the output ASCII file.\n",
       "path_fnout: string, optional\n",
       "    Path to the output file.\n",
       "\u001b[31mFile:\u001b[39m      ~/opt/python-3.11.9_gcc-11.2.0/lib/python3.11/site-packages/GamerVis/gamervis.py\n",
       "\u001b[31mType:\u001b[39m      method"
      ]
     },
     "metadata": {},
     "output_type": "display_data"
    }
   ],
   "source": [
    "gamer_obj.calc_accretion?"
   ]
  },
  {
   "cell_type": "code",
   "execution_count": 13,
   "id": "01b40b69-a8ee-4cdc-b7f5-9c21b11ed858",
   "metadata": {},
   "outputs": [
    {
     "name": "stderr",
     "output_type": "stream",
     "text": [
      "yt : [INFO     ] 2025-04-22 06:53:20,806 Parameters: current_time              = 686.0\n",
      "yt : [INFO     ] 2025-04-22 06:53:20,807 Parameters: domain_dimensions         = [160 160 160]\n",
      "yt : [INFO     ] 2025-04-22 06:53:20,807 Parameters: domain_left_edge          = [0. 0. 0.]\n",
      "yt : [INFO     ] 2025-04-22 06:53:20,808 Parameters: domain_right_edge         = [20000. 20000. 20000.]\n",
      "yt : [INFO     ] 2025-04-22 06:53:20,808 Parameters: cosmological_simulation   = 0\n",
      "yt : [INFO     ] 2025-04-22 06:53:54,656 Parameters: current_time              = 688.0\n",
      "yt : [INFO     ] 2025-04-22 06:53:54,656 Parameters: domain_dimensions         = [160 160 160]\n",
      "yt : [INFO     ] 2025-04-22 06:53:54,657 Parameters: domain_left_edge          = [0. 0. 0.]\n",
      "yt : [INFO     ] 2025-04-22 06:53:54,657 Parameters: domain_right_edge         = [20000. 20000. 20000.]\n",
      "yt : [INFO     ] 2025-04-22 06:53:54,657 Parameters: cosmological_simulation   = 0\n"
     ]
    },
    {
     "name": "stdout",
     "output_type": "stream",
     "text": [
      "Dump data to ./AccRate_PostProcess.txt\n"
     ]
    }
   ],
   "source": [
    "# post-process method\n",
    "radius = 5e7\n",
    "\n",
    "gamer_obj.calc_accretion(fn_list, radius = radius, method = \"postprocess\", fnout = \"AccRate_PostProcess.txt\")"
   ]
  },
  {
   "cell_type": "code",
   "execution_count": 14,
   "id": "44db890d-2a41-4b18-8e6b-94597985b949",
   "metadata": {},
   "outputs": [
    {
     "name": "stdout",
     "output_type": "stream",
     "text": [
      "# Method                : postprocess\n",
      "# Reference Center      : pns_ascii\n",
      "# Radius           [cm] : 5.000000e+07\n",
      "#\n",
      "# All quantities are in the CGS unit.\n",
      "# ==================================================\n",
      "#            1             2\n",
      "#     PhysTime       AccRate\n",
      "#          [s]         [g/s]\n",
      "  6.870000e-01  2.845947e+33\n"
     ]
    }
   ],
   "source": [
    "cat AccRate_PostProcess.txt"
   ]
  },
  {
   "cell_type": "code",
   "execution_count": 15,
   "id": "3c950d53-ba09-4d12-8a19-ef9d7f0090ba",
   "metadata": {},
   "outputs": [
    {
     "name": "stderr",
     "output_type": "stream",
     "text": [
      "yt : [INFO     ] 2025-04-22 06:54:30,698 Parameters: current_time              = 686.0\n",
      "yt : [INFO     ] 2025-04-22 06:54:30,699 Parameters: domain_dimensions         = [160 160 160]\n",
      "yt : [INFO     ] 2025-04-22 06:54:30,700 Parameters: domain_left_edge          = [0. 0. 0.]\n",
      "yt : [INFO     ] 2025-04-22 06:54:30,700 Parameters: domain_right_edge         = [20000. 20000. 20000.]\n",
      "yt : [INFO     ] 2025-04-22 06:54:30,701 Parameters: cosmological_simulation   = 0\n",
      "yt : [INFO     ] 2025-04-22 06:55:38,571 Parameters: current_time              = 688.0\n",
      "yt : [INFO     ] 2025-04-22 06:55:38,572 Parameters: domain_dimensions         = [160 160 160]\n",
      "yt : [INFO     ] 2025-04-22 06:55:38,573 Parameters: domain_left_edge          = [0. 0. 0.]\n",
      "yt : [INFO     ] 2025-04-22 06:55:38,573 Parameters: domain_right_edge         = [20000. 20000. 20000.]\n",
      "yt : [INFO     ] 2025-04-22 06:55:38,573 Parameters: cosmological_simulation   = 0\n"
     ]
    },
    {
     "name": "stdout",
     "output_type": "stream",
     "text": [
      "Dump data to ./AccRate_Shell.txt\n"
     ]
    }
   ],
   "source": [
    "# shell method\n",
    "radius = 5e7\n",
    "width  = 1e6\n",
    "\n",
    "gamer_obj.calc_accretion(fn_list, radius = radius, width = width, method = \"shell\", fnout = \"AccRate_Shell.txt\")"
   ]
  },
  {
   "cell_type": "code",
   "execution_count": 16,
   "id": "da319c52-449a-4b71-aae3-e1e22e57535f",
   "metadata": {},
   "outputs": [
    {
     "name": "stdout",
     "output_type": "stream",
     "text": [
      "# Method                : shell\n",
      "# Reference Center      : pns_ascii\n",
      "# Radius           [cm] : 5.000000e+07\n",
      "# Shell Half-Width [cm] : 1.000000e+06\n",
      "#\n",
      "# All quantities are in the CGS unit.\n",
      "# ==================================================\n",
      "#            1             2\n",
      "#     PhysTime       AccRate\n",
      "#          [s]         [g/s]\n",
      "  6.860000e-01  2.779957e+33\n",
      "  6.880000e-01  2.763678e+33\n"
     ]
    }
   ],
   "source": [
    "cat AccRate_Shell.txt"
   ]
  },
  {
   "cell_type": "code",
   "execution_count": 17,
   "id": "e0a40551-00e4-46ae-bdc0-224f97d9f46f",
   "metadata": {},
   "outputs": [
    {
     "name": "stderr",
     "output_type": "stream",
     "text": [
      "yt : [INFO     ] 2025-04-22 06:57:08,084 Parameters: current_time              = 686.0\n",
      "yt : [INFO     ] 2025-04-22 06:57:08,084 Parameters: domain_dimensions         = [160 160 160]\n",
      "yt : [INFO     ] 2025-04-22 06:57:08,085 Parameters: domain_left_edge          = [0. 0. 0.]\n",
      "yt : [INFO     ] 2025-04-22 06:57:08,085 Parameters: domain_right_edge         = [20000. 20000. 20000.]\n",
      "yt : [INFO     ] 2025-04-22 06:57:08,086 Parameters: cosmological_simulation   = 0\n",
      "yt : [INFO     ] 2025-04-22 06:57:50,960 Parameters: current_time              = 688.0\n",
      "yt : [INFO     ] 2025-04-22 06:57:50,961 Parameters: domain_dimensions         = [160 160 160]\n",
      "yt : [INFO     ] 2025-04-22 06:57:50,961 Parameters: domain_left_edge          = [0. 0. 0.]\n",
      "yt : [INFO     ] 2025-04-22 06:57:50,962 Parameters: domain_right_edge         = [20000. 20000. 20000.]\n",
      "yt : [INFO     ] 2025-04-22 06:57:50,962 Parameters: cosmological_simulation   = 0\n"
     ]
    },
    {
     "name": "stdout",
     "output_type": "stream",
     "text": [
      "Dump data to ./AccRate_Profile.txt\n"
     ]
    }
   ],
   "source": [
    "# profile method\n",
    "radius = 5e7\n",
    "nbin = 128\n",
    "\n",
    "gamer_obj.calc_accretion(fn_list, radius = radius, method = \"profile\", nbin = nbin, fnout = \"AccRate_Profile.txt\")"
   ]
  },
  {
   "cell_type": "code",
   "execution_count": 18,
   "id": "b1f8a955-afe4-4a12-9733-7df5fb00c9b8",
   "metadata": {},
   "outputs": [
    {
     "name": "stdout",
     "output_type": "stream",
     "text": [
      "# Method                : profile\n",
      "# Reference Center      : pns_ascii\n",
      "# Radius           [cm] : 5.000000e+07\n",
      "# Log Scale             : False\n",
      "# Number of Bin         : 128\n",
      "#\n",
      "# All quantities are in the CGS unit.\n",
      "# ==================================================\n",
      "#            1             2\n",
      "#     PhysTime       AccRate\n",
      "#          [s]         [g/s]\n",
      "  6.860000e-01  3.030105e+33\n",
      "  6.880000e-01  3.011898e+33\n"
     ]
    }
   ],
   "source": [
    "cat AccRate_Profile.txt"
   ]
  },
  {
   "cell_type": "code",
   "execution_count": null,
   "id": "df300d39-431d-43da-b44e-939d5c3c7953",
   "metadata": {},
   "outputs": [],
   "source": []
  },
  {
   "cell_type": "markdown",
   "id": "e6661f72-f085-4006-ad85-2d7df162b096",
   "metadata": {},
   "source": [
    "## calc_timescale_shock()"
   ]
  },
  {
   "cell_type": "code",
   "execution_count": 19,
   "id": "60739e2f-1f5c-4944-a653-5ad230b4d4a0",
   "metadata": {},
   "outputs": [
    {
     "data": {
      "text/plain": [
       "\u001b[31mSignature:\u001b[39m\n",
       "gamer_obj.calc_timescale_shock(\n",
       "    fn_list,\n",
       "    center=\u001b[33m'pns_ascii'\u001b[39m,\n",
       "    logscale=\u001b[38;5;28;01mFalse\u001b[39;00m,\n",
       "    nbin=\u001b[32m128\u001b[39m,\n",
       "    fnout=\u001b[33m'Timescale_ShockExp.txt'\u001b[39m,\n",
       "    path_fnout=\u001b[33m'.'\u001b[39m,\n",
       ")\n",
       "\u001b[31mDocstring:\u001b[39m\n",
       "Compute the heating and advection timescale at various radii, along with\n",
       "the shock expansion onset condition (the ratio of advection to heating timescales).\n",
       "\n",
       "Parameters\n",
       "----------\n",
       "fn_list: array-like of integer/string\n",
       "    Path to HDF5 snapshots or their indices to be processed.\n",
       "    --> Can be \"Data_000010\", \"10\", or 10.\n",
       "        Use \"all\" to automatically retrieve all available HDF5 files.\n",
       "center: string or array-like of float, optional\n",
       "    Coordinate of reference center, in cm.\n",
       "    --> \"c\"        : center of the simulation domain.\n",
       "        \"pns_ascii\": PNS center recorded in Record__CentralQuant\n",
       "        \"pns_hdf5\" : coordinate of highest-density cell in the HDF5 snapshot.\n",
       "logscale: boolean, optional\n",
       "    Indicates whether to apply a log scale to the bin edges, for the \"profile\" method.\n",
       "nbin: integer, optional\n",
       "    Number of bins used to construct spherically averaged profiles.\n",
       "fnout: string, optional\n",
       "    Name the output ASCII file.\n",
       "path_fnout: string, optional\n",
       "    Path to the output file.\n",
       "\u001b[31mFile:\u001b[39m      ~/opt/python-3.11.9_gcc-11.2.0/lib/python3.11/site-packages/GamerVis/gamervis.py\n",
       "\u001b[31mType:\u001b[39m      method"
      ]
     },
     "metadata": {},
     "output_type": "display_data"
    }
   ],
   "source": [
    "gamer_obj.calc_timescale_shock?"
   ]
  },
  {
   "cell_type": "code",
   "execution_count": 20,
   "id": "58c8c1f9-c32f-4533-a464-519b79a9ee07",
   "metadata": {},
   "outputs": [
    {
     "name": "stderr",
     "output_type": "stream",
     "text": [
      "yt : [INFO     ] 2025-04-22 06:58:34,898 Parameters: current_time              = 686.0\n",
      "yt : [INFO     ] 2025-04-22 06:58:34,898 Parameters: domain_dimensions         = [160 160 160]\n",
      "yt : [INFO     ] 2025-04-22 06:58:34,899 Parameters: domain_left_edge          = [0. 0. 0.]\n",
      "yt : [INFO     ] 2025-04-22 06:58:34,899 Parameters: domain_right_edge         = [20000. 20000. 20000.]\n",
      "yt : [INFO     ] 2025-04-22 06:58:34,900 Parameters: cosmological_simulation   = 0\n",
      "yt : [INFO     ] 2025-04-22 06:58:39,703 Parameters: current_time              = 686.0\n",
      "yt : [INFO     ] 2025-04-22 06:58:39,703 Parameters: domain_dimensions         = [160 160 160]\n",
      "yt : [INFO     ] 2025-04-22 06:58:39,704 Parameters: domain_left_edge          = [0. 0. 0.]\n",
      "yt : [INFO     ] 2025-04-22 06:58:39,704 Parameters: domain_right_edge         = [20000. 20000. 20000.]\n",
      "yt : [INFO     ] 2025-04-22 06:58:39,705 Parameters: cosmological_simulation   = 0\n",
      "yt : [INFO     ] 2025-04-22 07:01:10,186 Parameters: current_time              = 686.0\n",
      "yt : [INFO     ] 2025-04-22 07:01:10,187 Parameters: domain_dimensions         = [160 160 160]\n",
      "yt : [INFO     ] 2025-04-22 07:01:10,187 Parameters: domain_left_edge          = [0. 0. 0.]\n",
      "yt : [INFO     ] 2025-04-22 07:01:10,188 Parameters: domain_right_edge         = [20000. 20000. 20000.]\n",
      "yt : [INFO     ] 2025-04-22 07:01:10,188 Parameters: cosmological_simulation   = 0\n",
      "yt : [INFO     ] 2025-04-22 07:01:32,016 Parameters: current_time              = 686.0\n",
      "yt : [INFO     ] 2025-04-22 07:01:32,017 Parameters: domain_dimensions         = [160 160 160]\n",
      "yt : [INFO     ] 2025-04-22 07:01:32,018 Parameters: domain_left_edge          = [0. 0. 0.]\n",
      "yt : [INFO     ] 2025-04-22 07:01:32,018 Parameters: domain_right_edge         = [20000. 20000. 20000.]\n",
      "yt : [INFO     ] 2025-04-22 07:01:32,018 Parameters: cosmological_simulation   = 0\n",
      "yt : [INFO     ] 2025-04-22 07:02:05,142 Parameters: current_time              = 688.0\n",
      "yt : [INFO     ] 2025-04-22 07:02:05,142 Parameters: domain_dimensions         = [160 160 160]\n",
      "yt : [INFO     ] 2025-04-22 07:02:05,143 Parameters: domain_left_edge          = [0. 0. 0.]\n",
      "yt : [INFO     ] 2025-04-22 07:02:05,143 Parameters: domain_right_edge         = [20000. 20000. 20000.]\n",
      "yt : [INFO     ] 2025-04-22 07:02:05,144 Parameters: cosmological_simulation   = 0\n",
      "yt : [INFO     ] 2025-04-22 07:02:10,391 Parameters: current_time              = 688.0\n",
      "yt : [INFO     ] 2025-04-22 07:02:10,391 Parameters: domain_dimensions         = [160 160 160]\n",
      "yt : [INFO     ] 2025-04-22 07:02:10,392 Parameters: domain_left_edge          = [0. 0. 0.]\n",
      "yt : [INFO     ] 2025-04-22 07:02:10,392 Parameters: domain_right_edge         = [20000. 20000. 20000.]\n",
      "yt : [INFO     ] 2025-04-22 07:02:10,393 Parameters: cosmological_simulation   = 0\n",
      "yt : [INFO     ] 2025-04-22 07:04:42,187 Parameters: current_time              = 688.0\n",
      "yt : [INFO     ] 2025-04-22 07:04:42,188 Parameters: domain_dimensions         = [160 160 160]\n",
      "yt : [INFO     ] 2025-04-22 07:04:42,188 Parameters: domain_left_edge          = [0. 0. 0.]\n",
      "yt : [INFO     ] 2025-04-22 07:04:42,189 Parameters: domain_right_edge         = [20000. 20000. 20000.]\n",
      "yt : [INFO     ] 2025-04-22 07:04:42,189 Parameters: cosmological_simulation   = 0\n",
      "yt : [INFO     ] 2025-04-22 07:05:04,190 Parameters: current_time              = 688.0\n",
      "yt : [INFO     ] 2025-04-22 07:05:04,190 Parameters: domain_dimensions         = [160 160 160]\n",
      "yt : [INFO     ] 2025-04-22 07:05:04,191 Parameters: domain_left_edge          = [0. 0. 0.]\n",
      "yt : [INFO     ] 2025-04-22 07:05:04,191 Parameters: domain_right_edge         = [20000. 20000. 20000.]\n",
      "yt : [INFO     ] 2025-04-22 07:05:04,192 Parameters: cosmological_simulation   = 0\n"
     ]
    },
    {
     "name": "stdout",
     "output_type": "stream",
     "text": [
      "Dump data to ./Timescale_ShockExp.txt\n"
     ]
    }
   ],
   "source": [
    "# The rate of change of mass in the gain region is evaluated at the neutrino spheres of all three flavors, \n",
    "# and at various definitions of the shock radius.\n",
    "\n",
    "gamer_obj.calc_timescale_shock(fn_list)"
   ]
  },
  {
   "cell_type": "code",
   "execution_count": 21,
   "id": "5558abe5-29b7-4eca-85bc-325629ee6dca",
   "metadata": {},
   "outputs": [
    {
     "name": "stdout",
     "output_type": "stream",
     "text": [
      "# Bounce Time  [s] : 4.586500e-01\n",
      "# Reference Center : pns_ascii\n",
      "# Log Scale        : False\n",
      "# Number of Bin    : 128\n",
      "#\n",
      "# All quantities are in the CGS unit.\n",
      "# ==================================================\n",
      "#                  1                   2                   3                   4                   5                   6                   7                   8                   9                  10                  11                  12                  13                  14                  15                  16                  17                  18                  19                  20                  21                  22                  23                  24                  25                  26\n",
      "#           PhysTime                 Eth             dEth_dt            tau_heat           Mass_gain             dM_gain             dM_gain             dM_gain             dM_gain             dM_gain             dM_gain             dM_gain             tau_adv             tau_adv             tau_adv             tau_adv             tau_adv             tau_adv             tau_adv    tau_adv/tau_heat    tau_adv/tau_heat    tau_adv/tau_heat    tau_adv/tau_heat    tau_adv/tau_heat    tau_adv/tau_heat    tau_adv/tau_heat\n",
      "#                [s]               [erg]             [erg/s]                 [s]                 [g]     (Rsh_Min) [g/s]       (Rsh_V) [g/s]    (Rsh_Vinv) [g/s]     (Rsh_Max) [g/s]   (RadNS_Nue) [g/s]   (RadNS_Nua) [g/s]   (RadNS_Nux) [g/s]       (Rsh_Min) [s]         (Rsh_V) [s]      (Rsh_Vinv) [s]       (Rsh_Max) [s]     (RadNS_Nue) [s]     (RadNS_Nua) [s]     (RadNS_Nux) [s]       (Rsh_Min) [1]         (Rsh_V) [1]      (Rsh_Vinv) [1]       (Rsh_Max) [1]     (RadNS_Nue) [1]     (RadNS_Nua) [1]     (RadNS_Nux) [1]\n",
      "       6.8600000e-01       4.4180933e+49       7.0837735e+51       6.2369207e-03       1.4384127e+30       4.4373080e+34       8.6738455e+33       8.6738455e+33       9.3764861e+33       3.9347392e+34       3.6983346e+34       3.5671793e+34       3.2416336e-05       1.6583333e-04       1.6583333e-04       1.5340637e-04       3.6556748e-05       3.8893524e-05       4.0323531e-05       5.1974906e-03       2.6588975e-02       2.6588975e-02       2.4596492e-02       5.8613456e-03       6.2360140e-03       6.4652949e-03\n",
      "       6.8800000e-01       4.0051654e+49       7.9149897e+51       5.0602283e-03       1.3835919e+30       3.4165523e+34       7.0958736e+33       7.0958736e+33       9.0551736e+33       2.9119629e+34       2.2667748e+34       1.7841147e+34       4.0496729e-05       1.9498543e-04       1.9498543e-04       1.5279574e-04       4.7514064e-05       6.1037909e-05       7.7550616e-05       8.0029451e-03       3.8532931e-02       3.8532931e-02       3.0195424e-02       9.3897078e-03       1.2062284e-02       1.5325517e-02\n"
     ]
    }
   ],
   "source": [
    "cat Timescale_ShockExp.txt"
   ]
  },
  {
   "cell_type": "code",
   "execution_count": null,
   "id": "b43026fe-01cd-4970-9b7e-a1ee07d9b9c2",
   "metadata": {},
   "outputs": [],
   "source": []
  }
 ],
 "metadata": {
  "kernelspec": {
   "display_name": "Python 3 (ipykernel)",
   "language": "python",
   "name": "python3"
  },
  "language_info": {
   "codemirror_mode": {
    "name": "ipython",
    "version": 3
   },
   "file_extension": ".py",
   "mimetype": "text/x-python",
   "name": "python",
   "nbconvert_exporter": "python",
   "pygments_lexer": "ipython3",
   "version": "3.11.9"
  }
 },
 "nbformat": 4,
 "nbformat_minor": 5
}
