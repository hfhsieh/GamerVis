{
 "cells": [
  {
   "cell_type": "code",
   "execution_count": 1,
   "id": "3d51b739-a757-4169-a9d4-262512d09c46",
   "metadata": {},
   "outputs": [],
   "source": [
    "from pprint import pprint\n",
    "\n",
    "import numpy as np\n",
    "from matplotlib import pyplot as plt\n",
    "\n",
    "from GamerVis import *"
   ]
  },
  {
   "cell_type": "markdown",
   "id": "53cbb41b",
   "metadata": {},
   "source": []
  },
  {
   "cell_type": "markdown",
   "id": "4364cdc0-a26c-42af-a8c3-5d09f0d63e3f",
   "metadata": {},
   "source": [
    "## Introduction\n",
    "The main class is `gamervis()`, which inherits from relevant base classes and provides functions for analyzing and visualizing GAMER data from CCSN simulations.\n",
    "\n",
    "Current supports:\n",
    "- I/O\n",
    "    - `Record__Note`\n",
    "    - `Record__CentralQuant`\n",
    "    - `Record__QuadMom_2nd`\n",
    "    - HDF5 snapshots \n",
    "- Analysis\n",
    "    - PNS radius and mass\n",
    "    - Spherically averaged profiles\n",
    "    - Accretion rate\n",
    "    - The onset condition of shock expansion (the ratio of advection to heating timescales)\n",
    "- Visualization\n",
    "    - Evolution of quantities in `Record__CentralQuant`\n",
    "    - Evolution of strain, spectrogram, and amplitude spectral density of GW emissions\n",
    "    - Slice plot\n",
    "    - Slice plot of density fluctuation (for low-T/|W| instability)\n",
    "- Various gadgets"
   ]
  },
  {
   "cell_type": "code",
   "execution_count": 2,
   "id": "b3277ba3-c8a7-4698-9d43-ef3f5411564c",
   "metadata": {},
   "outputs": [
    {
     "data": {
      "text/plain": [
       "\u001b[31mInit signature:\u001b[39m gamervis(rundir=\u001b[33m'.'\u001b[39m, tbounce=\u001b[32m0.0\u001b[39m, nuctable=\u001b[38;5;28;01mNone\u001b[39;00m)\n",
       "\u001b[31mDocstring:\u001b[39m      Class for analyzing and visualizing GAMER data for CCSN simulations.\n",
       "\u001b[31mInit docstring:\u001b[39m\n",
       "Parameters\n",
       "----------\n",
       "rundir: string, optional\n",
       "    Path to the simulation data.\n",
       "tbounce: float, optional\n",
       "    Physical time of core bounce, in second.\n",
       "nuctable: string, optional\n",
       "    Path to the nuclear EoS table.\n",
       "    If set to \"runtime\", the value recorded in Record__Note will be used.\n",
       "\u001b[31mFile:\u001b[39m           ~/opt/python-3.11.9_gcc-11.2.0/lib/python3.11/site-packages/GamerVis/gamervis.py\n",
       "\u001b[31mType:\u001b[39m           type\n",
       "\u001b[31mSubclasses:\u001b[39m     "
      ]
     },
     "metadata": {},
     "output_type": "display_data"
    }
   ],
   "source": [
    "gamervis?"
   ]
  },
  {
   "cell_type": "markdown",
   "id": "27fb68ac-5d13-47e3-a6ad-03d9fc8d4359",
   "metadata": {},
   "source": [
    "The first step is to instantiate a `gamervis` object. The nuclear EoS solver is still under development and is not required unless you are analyzing MRI."
   ]
  },
  {
   "cell_type": "code",
   "execution_count": 3,
   "id": "789befaa-a97c-4058-a93c-32bb7c4de292",
   "metadata": {},
   "outputs": [
    {
     "name": "stdout",
     "output_type": "stream",
     "text": [
      "Path to simulation data: /home/hfhsieh/nas/ccsn_leakage_prod/B00_Rot00/MHM_AngMax00_AngMin12_B0_Rot0_re4\n",
      "Bounce time: 0.45865\n"
     ]
    }
   ],
   "source": [
    "rundir  = \"/home/hfhsieh/nas/ccsn_leakage_prod/B00_Rot00/MHM_AngMax00_AngMin12_B0_Rot0_re4\"\n",
    "tbounce = 4.5865000e-01\n",
    "\n",
    "gamer_obj = gamervis(rundir = rundir, tbounce = tbounce)\n",
    "\n",
    "print(\"Path to simulation data:\", gamer_obj.rundir)\n",
    "print(\"Bounce time:\", gamer_obj.tbounce)"
   ]
  },
  {
   "cell_type": "code",
   "execution_count": null,
   "id": "9a53523c-7815-4f64-b73d-18bd06bbd4c9",
   "metadata": {},
   "outputs": [],
   "source": []
  },
  {
   "cell_type": "markdown",
   "id": "45eed47f-2491-4f66-9305-fac4c0b49014",
   "metadata": {},
   "source": [
    "## Basic usage"
   ]
  },
  {
   "cell_type": "markdown",
   "id": "e6e38824",
   "metadata": {},
   "source": [
    "- `obj.get_allhdf5files(path = self.rundir)`\n",
    "    - Retrieve all HDF5 files in the specified path    \n",
    "\n",
    "- `obj.extend_filename(fn_or_idx)`\n",
    "    - Complete the full filename of an HDF5 file (in format of `PATH_TO_FILE/Data_*`).\n",
    "    - `fn_or_idx` can be integer.\n",
    "\n",
    "- `obj.get_file_index(fn)`\n",
    "    - Retrieve the file index.\n",
    "\n",
    "- `obj.get_time(fn, cgs = True)`\n",
    "    - Get the physical time recorded in the specified HDF5 file.\n",
    "    \n",
    "- `obj.get_energyshift(fn = None)`\n",
    "    - Get the energy shift used in the adopted nuclear EoS table.\n",
    "    - If `fn` is not specified, use the values of runtime parameters in `Record__Note`.\n",
    "    - Current supports `LS220` and `SFHo`.\n",
    "    \n",
    "- `obj.get_param(keyword, fn = None, source = \"ascii\")`\n",
    "    - Get the value corresponding to the specified `keyword` from various sources.\n",
    "    - Supports:\n",
    "        - HDF5 file (specified by `fn` and `source = \"hdf5\"`).\n",
    "        - `Record__Note` (`source = \"note\"`). Case insensitive.\n",
    "        - `Input__TestProb` (`source = \"testprob`). Case sensitive.\n",
    "\n",
    "- `obj.get_unitsys(fn)`\n",
    "    - Get the unit system recorded in the specified HDF5 file and store the data in `self.unit` (dict)\n",
    "\n",
    "- `obj.get_center(fn, center)`\n",
    "    - Get the coordinates of reference center at the physical time recorded in the specified HDF5 file.\n",
    "    - Supports:\n",
    "        - \"c\": Box center.\n",
    "        - \"pns_ascii\": PNS center in `Record__CentralQuant`.\n",
    "        - \"pns_hdf5\": Coordinate of highest-density cell in the HDF5 files (search through cells with density higher than $10^{14}$ g/cm$^{3}$).\n",
    "\n",
    "- `obj.get_centquant()`\n",
    "    - Load the `Record__CentralQuant` and store the data in `self.centquant` (numpy structured array)\n",
    "\n",
    "- `obj.get_quadmom()`\n",
    "    - Load the `Record__QuadMom_2nd` and store the data in `self.quadmom` (numpy structured array)\n",
    "\n",
    "- `obj.interp_centquant(field, fn = None, time = None)`\n",
    "    - Interpolate the data in `Record__CentralQuant` to obtain the coressponding value at the specified time.\n",
    "    - The physical time can be specified either using `time` or by retrieving if from the time recorded in the specified HDF5 file."
   ]
  },
  {
   "cell_type": "code",
   "execution_count": 4,
   "id": "20dcf81f-2426-4452-9251-040b20d8e03a",
   "metadata": {},
   "outputs": [
    {
     "name": "stdout",
     "output_type": "stream",
     "text": [
      "['/home/hfhsieh/nas/ccsn_leakage_prod/B00_Rot00/MHM_AngMax00_AngMin12_B0_Rot0_re4/Data_000124',\n",
      " '/home/hfhsieh/nas/ccsn_leakage_prod/B00_Rot00/MHM_AngMax00_AngMin12_B0_Rot0_re4/Data_000125',\n",
      " '/home/hfhsieh/nas/ccsn_leakage_prod/B00_Rot00/MHM_AngMax00_AngMin12_B0_Rot0_re4/Data_000126',\n",
      " '/home/hfhsieh/nas/ccsn_leakage_prod/B00_Rot00/MHM_AngMax00_AngMin12_B0_Rot0_re4/Data_000127',\n",
      " '/home/hfhsieh/nas/ccsn_leakage_prod/B00_Rot00/MHM_AngMax00_AngMin12_B0_Rot0_re4/Data_000128']\n"
     ]
    }
   ],
   "source": [
    "### get_allhdf5files()\n",
    "fn_list = gamer_obj.get_allhdf5files()\n",
    "\n",
    "pprint(fn_list[:5])"
   ]
  },
  {
   "cell_type": "code",
   "execution_count": 5,
   "id": "b8457126-bffc-401e-a33c-5237fd1ed01c",
   "metadata": {},
   "outputs": [
    {
     "name": "stdout",
     "output_type": "stream",
     "text": [
      "'/home/hfhsieh/nas/ccsn_leakage_prod/B00_Rot00/MHM_AngMax00_AngMin12_B0_Rot0_re4/Data_000001'\n"
     ]
    }
   ],
   "source": [
    "### extend_filename()\n",
    "fn_tmp = gamer_obj.extend_filename(1)\n",
    "\n",
    "pprint(fn_tmp)"
   ]
  },
  {
   "cell_type": "code",
   "execution_count": 6,
   "id": "392a8439-d186-4731-a634-04190cc22629",
   "metadata": {},
   "outputs": [
    {
     "data": {
      "text/plain": [
       "123456"
      ]
     },
     "execution_count": 6,
     "metadata": {},
     "output_type": "execute_result"
    }
   ],
   "source": [
    "### get_file_index()\n",
    "gamer_obj.get_file_index(\"FOOBAR/Data_123456\")"
   ]
  },
  {
   "cell_type": "code",
   "execution_count": 7,
   "id": "ee959496",
   "metadata": {},
   "outputs": [
    {
     "name": "stdout",
     "output_type": "stream",
     "text": [
      "Code Unit: 698.0\n",
      "CGS  Unit: 0.6980000000000001\n"
     ]
    }
   ],
   "source": [
    "### get_time()\n",
    "fn_tmp = gamer_obj.extend_filename(130)\n",
    "\n",
    "print(\"Code Unit:\", gamer_obj.get_time(fn_tmp, cgs = False))\n",
    "print(\"CGS  Unit:\", gamer_obj.get_time(fn_tmp))"
   ]
  },
  {
   "cell_type": "code",
   "execution_count": 8,
   "id": "ee8ab399",
   "metadata": {},
   "outputs": [
    {
     "name": "stderr",
     "output_type": "stream",
     "text": [
      "yt : [INFO     ] 2025-04-22 06:23:29,933 Parameters: current_time              = 698.0\n",
      "yt : [INFO     ] 2025-04-22 06:23:29,934 Parameters: domain_dimensions         = [160 160 160]\n",
      "yt : [INFO     ] 2025-04-22 06:23:29,934 Parameters: domain_left_edge          = [0. 0. 0.]\n",
      "yt : [INFO     ] 2025-04-22 06:23:29,935 Parameters: domain_right_edge         = [20000. 20000. 20000.]\n",
      "yt : [INFO     ] 2025-04-22 06:23:29,935 Parameters: cosmological_simulation   = 0\n"
     ]
    },
    {
     "name": "stdout",
     "output_type": "stream",
     "text": [
      "8.857790475887134e+18\n"
     ]
    }
   ],
   "source": [
    "### get_energyshift()\n",
    "fn_tmp = gamer_obj.extend_filename(130)\n",
    "\n",
    "print(gamer_obj.get_energyshift(fn_tmp))"
   ]
  },
  {
   "cell_type": "code",
   "execution_count": 9,
   "id": "39de675e",
   "metadata": {},
   "outputs": [
    {
     "name": "stdout",
     "output_type": "stream",
     "text": [
      "NUC Table:  /home/hfhsieh/work/EoS/LS220_234r_136t_50y_SVNr26_136e_136s_136p_v1.h5\n",
      "BOX Size :  20000.0\n",
      "CCSN_Prob:  1\n"
     ]
    }
   ],
   "source": [
    "### get_param()\n",
    "fn_tmp = gamer_obj.extend_filename(130)\n",
    "\n",
    "print(\"NUC Table: \", gamer_obj.get_param(\"NucTable\", fn = fn_tmp, source = \"hdf5\"))\n",
    "print(\"BOX Size : \", gamer_obj.get_param(\"Box_Size\", source = \"note\"))\n",
    "print(\"CCSN_Prob: \", gamer_obj.get_param(\"CCSN_Prob\", source = \"testprob\"))"
   ]
  },
  {
   "cell_type": "code",
   "execution_count": 10,
   "id": "87f48737",
   "metadata": {},
   "outputs": [
    {
     "name": "stdout",
     "output_type": "stream",
     "text": [
      "Stamp: 130 \n",
      "\n",
      "{'B': 4.999451085065279e+17,\n",
      " 'D': 1.989e+18,\n",
      " 'E': 1.9890000000000002e+49,\n",
      " 'L': 100000.0,\n",
      " 'M': 1.989e+33,\n",
      " 'P': 1.989e+34,\n",
      " 'T': 0.001,\n",
      " 'V': 100000000.0}\n"
     ]
    }
   ],
   "source": [
    "### get_unitsys()\n",
    "fn = gamer_obj.extend_filename(130)\n",
    "\n",
    "gamer_obj.get_unitsys(fn)\n",
    "\n",
    "print(\"Stamp:\", gamer_obj.unit_stamp, \"\\n\")\n",
    "pprint(gamer_obj.unit)"
   ]
  },
  {
   "cell_type": "code",
   "execution_count": 11,
   "id": "798c9700",
   "metadata": {},
   "outputs": [
    {
     "name": "stderr",
     "output_type": "stream",
     "text": [
      "yt : [INFO     ] 2025-04-22 06:23:33,179 Parameters: current_time              = 698.0\n",
      "yt : [INFO     ] 2025-04-22 06:23:33,180 Parameters: domain_dimensions         = [160 160 160]\n",
      "yt : [INFO     ] 2025-04-22 06:23:33,181 Parameters: domain_left_edge          = [0. 0. 0.]\n",
      "yt : [INFO     ] 2025-04-22 06:23:33,181 Parameters: domain_right_edge         = [20000. 20000. 20000.]\n",
      "yt : [INFO     ] 2025-04-22 06:23:33,182 Parameters: cosmological_simulation   = 0\n"
     ]
    },
    {
     "name": "stdout",
     "output_type": "stream",
     "text": [
      "Box center                        : [1.e+09 1.e+09 1.e+09] cm\n",
      "PNS center in Record__CentralQuant: [1.e+09 1.e+09 1.e+09] cm\n"
     ]
    },
    {
     "name": "stderr",
     "output_type": "stream",
     "text": [
      "yt : [INFO     ] 2025-04-22 06:23:37,604 Parameters: current_time              = 698.0\n",
      "yt : [INFO     ] 2025-04-22 06:23:37,605 Parameters: domain_dimensions         = [160 160 160]\n",
      "yt : [INFO     ] 2025-04-22 06:23:37,605 Parameters: domain_left_edge          = [0. 0. 0.]\n",
      "yt : [INFO     ] 2025-04-22 06:23:37,606 Parameters: domain_right_edge         = [20000. 20000. 20000.]\n",
      "yt : [INFO     ] 2025-04-22 06:23:37,606 Parameters: cosmological_simulation   = 0\n",
      "yt : [INFO     ] 2025-04-22 06:24:19,000 max value is 5.77777e+14 at 10000.1220703125000000 9999.8779296875000000 10000.1220703125000000\n"
     ]
    },
    {
     "name": "stdout",
     "output_type": "stream",
     "text": [
      "PNS center in HDF5                : [1.00001221e+09 9.99987793e+08 1.00001221e+09] cm\n"
     ]
    }
   ],
   "source": [
    "### get_center()\n",
    "fn = gamer_obj.extend_filename(130)\n",
    "\n",
    "print(\"Box center                        :\", gamer_obj.get_center(fn, \"c\"))\n",
    "print(\"PNS center in Record__CentralQuant:\", gamer_obj.get_center(fn, \"pns_ascii\"))\n",
    "print(\"PNS center in HDF5                :\", gamer_obj.get_center(fn, \"pns_hdf5\"))"
   ]
  },
  {
   "cell_type": "code",
   "execution_count": 12,
   "id": "1d8ec5b4",
   "metadata": {},
   "outputs": [
    {
     "name": "stdout",
     "output_type": "stream",
     "text": [
      "577777000000000.0\n",
      "577777000000000.0\n",
      "\n",
      "Available field name: \n",
      "('time',\n",
      " 'step',\n",
      " 'posx',\n",
      " 'posy',\n",
      " 'posz',\n",
      " 'dens',\n",
      " 'ye',\n",
      " 'rsh_min',\n",
      " 'rsh_ave_V',\n",
      " 'rsh_ave_Vinv',\n",
      " 'rsh_max',\n",
      " 'ccsn_x',\n",
      " 'ccsn_y',\n",
      " 'ccsn_z',\n",
      " 'leak_netheat',\n",
      " 'leak_lum_nue',\n",
      " 'leak_lum_nua',\n",
      " 'leak_lum_nux',\n",
      " 'leak_heat_nue',\n",
      " 'leak_heat_nua',\n",
      " 'leak_netheat_nue',\n",
      " 'leak_netheat_nua',\n",
      " 'leak_eave_nue',\n",
      " 'leak_eave_nua',\n",
      " 'leak_eave_nux',\n",
      " 'leak_radns_nue',\n",
      " 'leak_radns_nua',\n",
      " 'leak_radns_nux')\n"
     ]
    }
   ],
   "source": [
    "### interp_centquant()\n",
    "fn   = gamer_obj.extend_filename(130)\n",
    "time = gamer_obj.get_time(fn)\n",
    "\n",
    "print(gamer_obj.interp_centquant(\"dens\", time = time))\n",
    "print(gamer_obj.interp_centquant(\"dens\", fn = fn))\n",
    "\n",
    "print(\"\\nAvailable field name: \")\n",
    "pprint(gamer_obj.centquant.dtype.names)"
   ]
  },
  {
   "cell_type": "code",
   "execution_count": 13,
   "id": "5dccd2f1",
   "metadata": {},
   "outputs": [
    {
     "name": "stdout",
     "output_type": "stream",
     "text": [
      "array([(0.0000000e+00,    0, 1.0000488e+09, 9.9838867e+08, 9.9663086e+08, 2.1697799e+09, 0.44694963,       0. ,        0.,        0.,        0., 1.e+09, 1.e+09, 1.e+09, 0.0000000e+00, 0.0000000e+00, 0.0000000e+00, 0.0000000e+00, 0.0000000e+00, 0.0000000e+00, 0.0000000e+00, 0.0000000e+00,  0.      ,  0.      ,  0.      ,       0. ,       0. ,       0. ),\n",
      "       (1.4040356e-07,    1, 1.0000488e+09, 9.9995117e+08, 9.9995117e+08, 2.1698081e+09, 0.44695035,       0. ,        0.,        0.,        0., 1.e+09, 1.e+09, 1.e+09, 0.0000000e+00, 0.0000000e+00, 0.0000000e+00, 0.0000000e+00, 0.0000000e+00, 0.0000000e+00, 0.0000000e+00, 0.0000000e+00,  0.      ,  0.      ,  0.      ,       0. ,       0. ,       0. ),\n",
      "       (1.0014040e-04,    2, 9.9995117e+08, 1.0000488e+09, 1.0000488e+09, 2.1795879e+09, 0.44695032,       0. ,        0.,        0.,        0., 1.e+09, 1.e+09, 1.e+09, 0.0000000e+00, 0.0000000e+00, 0.0000000e+00, 0.0000000e+00, 0.0000000e+00, 0.0000000e+00, 0.0000000e+00, 0.0000000e+00,  0.      ,  0.      ,  0.      ,       0. ,       0. ,       0. ),\n",
      "       ...,\n",
      "       (8.3650000e-01, 8488, 1.0000122e+09, 9.9998779e+08, 9.9998779e+08, 7.5803208e+14, 0.2705043 , 2020143.8, 14813672., 14813672., 19906292., 1.e+09, 1.e+09, 1.e+09, 6.8698401e+52, 9.5081152e+52, 1.3175314e+53, 3.0302532e+53, 1.4763493e+53, 1.7515802e+53, 3.2435483e+52, 4.0726276e+52, 38.229853, 40.446572, 44.537338, 2820729. , 2699636.8, 2374629.9),\n",
      "       (8.3660000e-01, 8489, 1.0000122e+09, 9.9998779e+08, 9.9998779e+08, 7.5813431e+14, 0.27050003, 2120337.1, 14957732., 14957732., 20061538., 1.e+09, 1.e+09, 1.e+09, 7.0748570e+52, 9.4161856e+52, 1.3155133e+53, 3.0253844e+53, 1.4741648e+53, 1.7519047e+53, 3.3289899e+52, 4.1723646e+52, 38.340586, 40.491637, 44.478883, 2818771.6, 2698655.6, 2373541.3),\n",
      "       (8.3670000e-01, 8490, 1.0000122e+09, 9.9998779e+08, 9.9998779e+08, 7.5760267e+14, 0.27049464, 1993711.3, 15098675., 15098675., 20197008., 1.e+09, 1.e+09, 1.e+09, 7.0936152e+52, 9.3830606e+52, 1.3177517e+53, 3.0251303e+53, 1.4656840e+53, 1.7468240e+53, 3.3235714e+52, 4.1721398e+52, 38.293763, 40.347083, 44.509781, 2817435.4, 2696381.9, 2367917.7)],\n",
      "      dtype=[('time', '<f8'), ('step', '<i4'), ('posx', '<f8'), ('posy', '<f8'), ('posz', '<f8'), ('dens', '<f8'), ('ye', '<f8'), ('rsh_min', '<f8'), ('rsh_ave_V', '<f8'), ('rsh_ave_Vinv', '<f8'), ('rsh_max', '<f8'), ('ccsn_x', '<f8'), ('ccsn_y', '<f8'), ('ccsn_z', '<f8'), ('leak_netheat', '<f8'), ('leak_lum_nue', '<f8'), ('leak_lum_nua', '<f8'), ('leak_lum_nux', '<f8'), ('leak_heat_nue', '<f8'), ('leak_heat_nua', '<f8'), ('leak_netheat_nue', '<f8'), ('leak_netheat_nua', '<f8'), ('leak_eave_nue', '<f8'), ('leak_eave_nua', '<f8'), ('leak_eave_nux', '<f8'), ('leak_radns_nue', '<f8'), ('leak_radns_nua', '<f8'), ('leak_radns_nux', '<f8')])\n",
      "\n",
      "Rsh_Vinv:\n",
      " [       0.        0.        0. ... 14813672. 14957732. 15098675.]\n"
     ]
    }
   ],
   "source": [
    "### get_centquant()\n",
    "gamer_obj.get_centquant()\n",
    "\n",
    "data = gamer_obj.centquant\n",
    "\n",
    "# print all data\n",
    "pprint(data)\n",
    "\n",
    "# can use name to retrieve data of the specified field\n",
    "print(\"\\nRsh_Vinv:\\n\", data[\"rsh_ave_V\"])"
   ]
  },
  {
   "cell_type": "code",
   "execution_count": null,
   "id": "a059efe6-5381-4763-b974-d04a99a799c1",
   "metadata": {},
   "outputs": [],
   "source": []
  }
 ],
 "metadata": {
  "kernelspec": {
   "display_name": "Python 3 (ipykernel)",
   "language": "python",
   "name": "python3"
  },
  "language_info": {
   "codemirror_mode": {
    "name": "ipython",
    "version": 3
   },
   "file_extension": ".py",
   "mimetype": "text/x-python",
   "name": "python",
   "nbconvert_exporter": "python",
   "pygments_lexer": "ipython3",
   "version": "3.11.9"
  }
 },
 "nbformat": 4,
 "nbformat_minor": 5
}
